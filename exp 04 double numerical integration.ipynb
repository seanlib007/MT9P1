{
 "cells": [
  {
   "cell_type": "code",
   "execution_count": 9,
   "id": "bulgarian-elite",
   "metadata": {},
   "outputs": [],
   "source": [
    "def trap(g,a,b,h):\n",
    "    return h/2*(g(a)+g(b))"
   ]
  },
  {
   "cell_type": "code",
   "execution_count": 10,
   "id": "flush-johnson",
   "metadata": {},
   "outputs": [],
   "source": [
    "def dtra(f,x0,xn,y0,yn,h,k):\n",
    "    n1=int((xn-x0)/h)\n",
    "    n2=int((yn-y0)/k)\n",
    "    s=0\n",
    "    g(x)=f(x,y)\n",
    "    for i in range(n1):\n",
    "        I(y)=trap(g,x0+i*h,x0+(i+1)*h,h)\n",
    "        for j in range(n2):\n",
    "            s+=trap(I,y0+j*k,y0+(j+1)*k,k)\n",
    "    print(\"the area of the integral is by trapezodail\",s)"
   ]
  },
  {
   "cell_type": "code",
   "execution_count": 11,
   "id": "tight-short",
   "metadata": {},
   "outputs": [
    {
     "name": "stdout",
     "output_type": "stream",
     "text": [
      "the area of the integral is by trapezodail 3.07627427711486\n"
     ]
    }
   ],
   "source": [
    "y=var('y')\n",
    "f1(x,y)=exp(x+y)\n",
    "dtra(f1,0,1,0,1,0.5,0.5)"
   ]
  },
  {
   "cell_type": "code",
   "execution_count": 12,
   "id": "danish-insight",
   "metadata": {},
   "outputs": [
    {
     "name": "stdout",
     "output_type": "stream",
     "text": [
      "the area of the integral is by trapezodail 128\n"
     ]
    }
   ],
   "source": [
    "y=var('y')\n",
    "f1(x,y)=x^2+y^2-x*y\n",
    "dtra(f1,0,4,-2,2,2,2)"
   ]
  },
  {
   "cell_type": "code",
   "execution_count": 17,
   "id": "bridal-blocking",
   "metadata": {},
   "outputs": [],
   "source": [
    "def simp(g,a,b,c,h):\n",
    "    return h/3*(g(a)+4*g(b)+g(c))"
   ]
  },
  {
   "cell_type": "code",
   "execution_count": 22,
   "id": "former-reminder",
   "metadata": {},
   "outputs": [],
   "source": [
    "def dsimp(f,x0,xn,y0,yn,h,k):\n",
    "    n1=int((xn-x0)/h)\n",
    "    n2=int((yn-y0)/k)\n",
    "    s=0\n",
    "    g(x)=f(x,y)\n",
    "    for i in range(1,n1):\n",
    "        I(y)=simp(g,x0+(i-1)*h,x0+(i)*h,x0+(i+1)*h,h)\n",
    "        for j in range(1,n2):\n",
    "            s+=simp(I,y0+(j-1)*k,y0+(j)*k,y0+(j+1)*k,k)\n",
    "    print(\"the area of the integral is by simpsons\",s)"
   ]
  },
  {
   "cell_type": "code",
   "execution_count": 23,
   "id": "played-simpson",
   "metadata": {},
   "outputs": [
    {
     "name": "stdout",
     "output_type": "stream",
     "text": [
      "the area of the integral is by simpsons 2.95448365943053\n"
     ]
    }
   ],
   "source": [
    "y=var('y')\n",
    "f1(x,y)=exp(x+y)\n",
    "dsimp(f1,0,1,0,1,0.5,0.5)"
   ]
  },
  {
   "cell_type": "code",
   "execution_count": 24,
   "id": "average-undergraduate",
   "metadata": {},
   "outputs": [
    {
     "name": "stdout",
     "output_type": "stream",
     "text": [
      "the area of the integral is by simpsons 320/3\n"
     ]
    }
   ],
   "source": [
    "y=var('y')\n",
    "f1(x,y)=x^2+y^2-x*y\n",
    "dsimp(f1,0,4,-2,2,2,2)"
   ]
  },
  {
   "cell_type": "code",
   "execution_count": null,
   "id": "baking-cargo",
   "metadata": {},
   "outputs": [],
   "source": []
  }
 ],
 "metadata": {
  "kernelspec": {
   "display_name": "SageMath 9.2",
   "language": "sage",
   "name": "sagemath"
  },
  "language_info": {
   "codemirror_mode": {
    "name": "ipython",
    "version": 3
   },
   "file_extension": ".py",
   "mimetype": "text/x-python",
   "name": "python",
   "nbconvert_exporter": "python",
   "pygments_lexer": "ipython3",
   "version": "3.9.2"
  }
 },
 "nbformat": 4,
 "nbformat_minor": 5
}
